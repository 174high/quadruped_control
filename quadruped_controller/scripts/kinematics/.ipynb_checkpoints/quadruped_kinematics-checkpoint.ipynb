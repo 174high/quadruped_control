{
 "cells": [
  {
   "cell_type": "code",
   "execution_count": 1,
   "metadata": {},
   "outputs": [],
   "source": [
    "import numpy as np\n",
    "import sympy as sym\n",
    "from sympy.abc import t\n",
    "%matplotlib inline\n",
    "import matplotlib.pyplot as plt\n",
    "from scipy.spatial.transform import Rotation as R"
   ]
  },
  {
   "cell_type": "code",
   "execution_count": 2,
   "metadata": {},
   "outputs": [],
   "source": [
    "def Rx(angle):\n",
    "    rot = sym.zeros(3, 3)  \n",
    "    rot[0, 0] = 1\n",
    "    rot[1, 1] = sym.cos(angle)\n",
    "    rot[1, 2] = -sym.sin(angle)\n",
    "    rot[2, 1] = sym.sin(angle)\n",
    "    rot[2, 2] = sym.cos(angle)\n",
    "    return rot   \n",
    "\n",
    "def Ry(angle):\n",
    "    rot = sym.zeros(3, 3)  \n",
    "    rot[0, 0] = sym.cos(angle)\n",
    "    rot[0, 2] = sym.sin(angle)\n",
    "    rot[1, 1] = 1\n",
    "    rot[2, 0] = -sym.sin(angle)\n",
    "    rot[2, 2] = sym.cos(angle)\n",
    "    return rot \n",
    "\n",
    "def Rz(angle):\n",
    "    rot = sym.zeros(3, 3)  \n",
    "    rot[0, 0] = sym.cos(angle)\n",
    "    rot[0, 1] = -sym.sin(angle)\n",
    "    rot[1, 0] = sym.sin(angle)\n",
    "    rot[1, 1] = sym.cos(angle)\n",
    "    rot[2, 2] = 1\n",
    "    return rot   \n",
    "\n",
    "def trans3D(R, p):\n",
    "    T = sym.zeros(4, 4)\n",
    "    T[0:3, 0:3] = R\n",
    "    T[0, 3] = p[0]\n",
    "    T[1, 3] = p[1]\n",
    "    T[2, 3] = p[2]\n",
    "    T[3, 3] = 1\n",
    "\n",
    "    return T"
   ]
  },
  {
   "cell_type": "code",
   "execution_count": 10,
   "metadata": {},
   "outputs": [],
   "source": [
    "lht = 0.077 # hip to thigh \n",
    "ltc = 0.211 # thigh to calf \n",
    "lcf = 0.230 # calf to foot\n",
    "\n",
    "theta1 = sym.symbols(r'\\theta_1')\n",
    "theta2 = sym.symbols(r'\\theta_2')\n",
    "theta3 = sym.symbols(r'\\theta_3')\n",
    "\n",
    "l1 = sym.symbols(r'l1')\n",
    "l2 = sym.symbols(r'l2')\n",
    "l3 = sym.symbols(r'l3')\n",
    "\n",
    "q = sym.Matrix([theta1, theta2, theta3])"
   ]
  },
  {
   "cell_type": "code",
   "execution_count": 27,
   "metadata": {},
   "outputs": [
    {
     "name": "stdout",
     "output_type": "stream",
     "text": [
      "FL foor position relative to base:  [ 0.13620553  0.28995199 -0.19840252]\n",
      "FL foot orientation : [ 0.2977508  -0.26275795 -0.08561953  0.91376803]\n"
     ]
    },
    {
     "data": {
      "text/latex": [
       "$\\displaystyle \\left[\\begin{matrix}- \\sin{\\left(\\theta_{2} \\right)} \\sin{\\left(\\theta_{3} \\right)} + \\cos{\\left(\\theta_{2} \\right)} \\cos{\\left(\\theta_{3} \\right)} & 0 & \\sin{\\left(\\theta_{2} \\right)} \\cos{\\left(\\theta_{3} \\right)} + \\sin{\\left(\\theta_{3} \\right)} \\cos{\\left(\\theta_{2} \\right)} & - l_{2} \\sin{\\left(\\theta_{2} \\right)} - l_{3} \\left(\\sin{\\left(\\theta_{2} \\right)} \\cos{\\left(\\theta_{3} \\right)} + \\sin{\\left(\\theta_{3} \\right)} \\cos{\\left(\\theta_{2} \\right)}\\right) + 0.196\\\\\\sin{\\left(\\theta_{1} \\right)} \\sin{\\left(\\theta_{2} \\right)} \\cos{\\left(\\theta_{3} \\right)} + \\sin{\\left(\\theta_{1} \\right)} \\sin{\\left(\\theta_{3} \\right)} \\cos{\\left(\\theta_{2} \\right)} & \\cos{\\left(\\theta_{1} \\right)} & \\sin{\\left(\\theta_{1} \\right)} \\sin{\\left(\\theta_{2} \\right)} \\sin{\\left(\\theta_{3} \\right)} - \\sin{\\left(\\theta_{1} \\right)} \\cos{\\left(\\theta_{2} \\right)} \\cos{\\left(\\theta_{3} \\right)} & l_{1} \\cos{\\left(\\theta_{1} \\right)} + l_{2} \\sin{\\left(\\theta_{1} \\right)} \\cos{\\left(\\theta_{2} \\right)} - l_{3} \\left(\\sin{\\left(\\theta_{1} \\right)} \\sin{\\left(\\theta_{2} \\right)} \\sin{\\left(\\theta_{3} \\right)} - \\sin{\\left(\\theta_{1} \\right)} \\cos{\\left(\\theta_{2} \\right)} \\cos{\\left(\\theta_{3} \\right)}\\right) + 0.05\\\\- \\sin{\\left(\\theta_{2} \\right)} \\cos{\\left(\\theta_{1} \\right)} \\cos{\\left(\\theta_{3} \\right)} - \\sin{\\left(\\theta_{3} \\right)} \\cos{\\left(\\theta_{1} \\right)} \\cos{\\left(\\theta_{2} \\right)} & \\sin{\\left(\\theta_{1} \\right)} & - \\sin{\\left(\\theta_{2} \\right)} \\sin{\\left(\\theta_{3} \\right)} \\cos{\\left(\\theta_{1} \\right)} + \\cos{\\left(\\theta_{1} \\right)} \\cos{\\left(\\theta_{2} \\right)} \\cos{\\left(\\theta_{3} \\right)} & l_{1} \\sin{\\left(\\theta_{1} \\right)} - l_{2} \\cos{\\left(\\theta_{1} \\right)} \\cos{\\left(\\theta_{2} \\right)} - l_{3} \\left(- \\sin{\\left(\\theta_{2} \\right)} \\sin{\\left(\\theta_{3} \\right)} \\cos{\\left(\\theta_{1} \\right)} + \\cos{\\left(\\theta_{1} \\right)} \\cos{\\left(\\theta_{2} \\right)} \\cos{\\left(\\theta_{3} \\right)}\\right)\\\\0 & 0 & 0 & 1\\end{matrix}\\right]$"
      ],
      "text/plain": [
       "Matrix([\n",
       "[                            -sin(\\theta_2)*sin(\\theta_3) + cos(\\theta_2)*cos(\\theta_3),             0,                              sin(\\theta_2)*cos(\\theta_3) + sin(\\theta_3)*cos(\\theta_2),                                                            -l2*sin(\\theta_2) - l3*(sin(\\theta_2)*cos(\\theta_3) + sin(\\theta_3)*cos(\\theta_2)) + 0.196],\n",
       "[ sin(\\theta_1)*sin(\\theta_2)*cos(\\theta_3) + sin(\\theta_1)*sin(\\theta_3)*cos(\\theta_2), cos(\\theta_1),  sin(\\theta_1)*sin(\\theta_2)*sin(\\theta_3) - sin(\\theta_1)*cos(\\theta_2)*cos(\\theta_3), l1*cos(\\theta_1) + l2*sin(\\theta_1)*cos(\\theta_2) - l3*(sin(\\theta_1)*sin(\\theta_2)*sin(\\theta_3) - sin(\\theta_1)*cos(\\theta_2)*cos(\\theta_3)) + 0.05],\n",
       "[-sin(\\theta_2)*cos(\\theta_1)*cos(\\theta_3) - sin(\\theta_3)*cos(\\theta_1)*cos(\\theta_2), sin(\\theta_1), -sin(\\theta_2)*sin(\\theta_3)*cos(\\theta_1) + cos(\\theta_1)*cos(\\theta_2)*cos(\\theta_3),       l1*sin(\\theta_1) - l2*cos(\\theta_1)*cos(\\theta_2) - l3*(-sin(\\theta_2)*sin(\\theta_3)*cos(\\theta_1) + cos(\\theta_1)*cos(\\theta_2)*cos(\\theta_3))],\n",
       "[                                                                                     0,             0,                                                                                      0,                                                                                                                                                     1]])"
      ]
     },
     "metadata": {},
     "output_type": "display_data"
    }
   ],
   "source": [
    "############################################################################\n",
    "# FRONT LEFT FK\n",
    "Tb0_FL = trans3D(sym.eye(3), [0.196, 0.050, 0]) # trunk to FL 0\n",
    "T01_FL = trans3D(Rx(theta1), [0, 0, 0])\n",
    "T12_FL = trans3D(Ry(theta2), [0, l1, 0])\n",
    "T23_FL = trans3D(Ry(theta3), [0, 0, -l2])\n",
    "T34_FL = trans3D(sym.eye(3), [0, 0, -l3])\n",
    "\n",
    "Tb_FL_foot = Tb0_FL * T01_FL * T12_FL * T23_FL * T34_FL\n",
    "Tb_FL_foot_lam = sym.lambdify([theta1, theta2, theta3, l1, l2, l3], Tb_FL_foot)\n",
    "\n",
    "Tb_FL_foot_eval = Tb_FL_foot_lam(0.63, 1.04, -1.60, lht, ltc, lcf)\n",
    "\n",
    "print(\"FL foor position relative to base: \", Tb_FL_foot_eval[0:3,3])\n",
    "print(\"FL foot orientation :\", R.from_matrix(Tb_FL_foot_eval[0:3, 0:3]).as_quat()) # (x, y, z, w) \n",
    "\n",
    "# display(Tb_FL_foot)\n"
   ]
  },
  {
   "cell_type": "code",
   "execution_count": 17,
   "metadata": {},
   "outputs": [
    {
     "name": "stdout",
     "output_type": "stream",
     "text": [
      "FR foor position relative to base:  [ 0.08484886 -0.31219352 -0.0768461 ]\n",
      "FR foot orientation : [-0.39296019  0.50273849 -0.27464729  0.71930881]\n"
     ]
    }
   ],
   "source": [
    "############################################################################\n",
    "# FRONT RIGHT FK\n",
    "Tb0_FR = trans3D(sym.eye(3), [0.196, -0.050, 0]) # trunk to FR 0\n",
    "T01_FR = trans3D(Rx(theta1), [0, 0, 0])\n",
    "T12_FR = trans3D(Ry(theta2), [0, -l1, 0])\n",
    "T23_FR = trans3D(Ry(theta3), [0, 0, -l2])\n",
    "T34_FR = trans3D(sym.eye(3), [0, 0, -l3])\n",
    "\n",
    "Tb_FR_foot = Tb0_FR * T01_FR * T12_FR * T23_FR * T34_FR\n",
    "Tb_FR_foot_lam = sym.lambdify([theta1, theta2, theta3, l1, l2, l3], Tb_FR_foot)\n",
    "\n",
    "Tb_FR_foot_eval = Tb_FR_foot_lam(-1.0, -0.52, 1.74, lht, ltc, lcf)\n",
    "\n",
    "print(\"FR foor position relative to base: \", Tb_FR_foot_eval[0:3,3])\n",
    "print(\"FR foot orientation :\", R.from_matrix(Tb_FR_foot_eval[0:3, 0:3]).as_quat()) # (x, y, z, w) "
   ]
  },
  {
   "cell_type": "code",
   "execution_count": 22,
   "metadata": {},
   "outputs": [
    {
     "name": "stdout",
     "output_type": "stream",
     "text": [
      "RL foor position relative to base:  [-0.18912437 -0.01967574 -0.39257339]\n",
      "RL foot orientation : [-0.17951295  0.21450581 -0.04014258  0.95924498]\n"
     ]
    }
   ],
   "source": [
    "############################################################################\n",
    "# REAR LEFT FK\n",
    "Tb0_RL = trans3D(sym.eye(3), [-0.196, 0.050, 0]) # trunk to RL 0\n",
    "T01_RL = trans3D(Rx(theta1), [0, 0, 0])\n",
    "T12_RL = trans3D(Ry(theta2), [0, l1, 0])\n",
    "T23_RL = trans3D(Ry(theta3), [0, 0, -l2])\n",
    "T34_RL = trans3D(sym.eye(3), [0, 0, -l3])\n",
    "\n",
    "Tb_RL_foot = Tb0_RL * T01_RL * T12_RL * T23_RL * T34_RL\n",
    "Tb_RL_foot_lam = sym.lambdify([theta1, theta2, theta3, l1, l2, l3], Tb_RL_foot)\n",
    "\n",
    "Tb_RL_foot_eval = Tb_RL_foot_lam(-0.37, -0.52, 0.96, lht, ltc, lcf)\n",
    "\n",
    "print(\"RL foor position relative to base: \", Tb_RL_foot_eval[0:3,3])\n",
    "print(\"RL foot orientation :\", R.from_matrix(Tb_RL_foot_eval[0:3, 0:3]).as_quat()) # (x, y, z, w)"
   ]
  },
  {
   "cell_type": "code",
   "execution_count": 26,
   "metadata": {},
   "outputs": [
    {
     "name": "stdout",
     "output_type": "stream",
     "text": [
      "RR foor position relative to base:  [-0.36464893 -0.31785487 -0.06487817]\n",
      "RR foot orientation : [-0.49940346 -0.073464    0.04255182  0.86219984]\n"
     ]
    }
   ],
   "source": [
    "############################################################################\n",
    "# REAR RIGHT FK\n",
    "Tb0_RR = trans3D(sym.eye(3), [-0.196, -0.050, 0]) # trunk to RR 0\n",
    "T01_RR = trans3D(Rx(theta1), [0, 0, 0])\n",
    "T12_RR = trans3D(Ry(theta2), [0, -l1, 0])\n",
    "T23_RR = trans3D(Ry(theta3), [0, 0, -l2])\n",
    "T34_RR = trans3D(sym.eye(3), [0, 0, -l3])\n",
    "\n",
    "Tb_RR_foot = Tb0_RR * T01_RR * T12_RR * T23_RR * T34_RR\n",
    "Tb_RR_foot_lam = sym.lambdify([theta1, theta2, theta3, l1, l2, l3], Tb_RR_foot)\n",
    "\n",
    "Tb_RR_foot_eval = Tb_RR_foot_lam(-1.05, 1.39, -1.56, lht, ltc, lcf)\n",
    "\n",
    "print(\"RR foor position relative to base: \", Tb_RR_foot_eval[0:3,3])\n",
    "print(\"RR foot orientation :\", R.from_matrix(Tb_RR_foot_eval[0:3, 0:3]).as_quat()) # (x, y, z, w)"
   ]
  },
  {
   "cell_type": "code",
   "execution_count": null,
   "metadata": {},
   "outputs": [],
   "source": []
  }
 ],
 "metadata": {
  "kernelspec": {
   "display_name": "Python 3",
   "language": "python",
   "name": "python3"
  },
  "language_info": {
   "codemirror_mode": {
    "name": "ipython",
    "version": 3
   },
   "file_extension": ".py",
   "mimetype": "text/x-python",
   "name": "python",
   "nbconvert_exporter": "python",
   "pygments_lexer": "ipython3",
   "version": "3.8.5"
  }
 },
 "nbformat": 4,
 "nbformat_minor": 4
}
