{
 "cells": [
  {
   "cell_type": "code",
   "execution_count": 14,
   "metadata": {},
   "outputs": [],
   "source": [
    "import numpy as np\n",
    "import sympy as sym\n",
    "from sympy.abc import t\n",
    "%matplotlib inline\n",
    "import matplotlib.pyplot as plt\n",
    "from scipy.spatial.transform import Rotation as R\n",
    "from sympy import init_printing\n",
    "init_printing() "
   ]
  },
  {
   "cell_type": "code",
   "execution_count": 2,
   "metadata": {},
   "outputs": [],
   "source": [
    "def Rx(angle):\n",
    "    rot = sym.zeros(3, 3)  \n",
    "    rot[0, 0] = 1\n",
    "    rot[1, 1] = sym.cos(angle)\n",
    "    rot[1, 2] = -sym.sin(angle)\n",
    "    rot[2, 1] = sym.sin(angle)\n",
    "    rot[2, 2] = sym.cos(angle)\n",
    "    return rot   \n",
    "\n",
    "def Ry(angle):\n",
    "    rot = sym.zeros(3, 3)  \n",
    "    rot[0, 0] = sym.cos(angle)\n",
    "    rot[0, 2] = sym.sin(angle)\n",
    "    rot[1, 1] = 1\n",
    "    rot[2, 0] = -sym.sin(angle)\n",
    "    rot[2, 2] = sym.cos(angle)\n",
    "    return rot \n",
    "\n",
    "def Rz(angle):\n",
    "    rot = sym.zeros(3, 3)  \n",
    "    rot[0, 0] = sym.cos(angle)\n",
    "    rot[0, 1] = -sym.sin(angle)\n",
    "    rot[1, 0] = sym.sin(angle)\n",
    "    rot[1, 1] = sym.cos(angle)\n",
    "    rot[2, 2] = 1\n",
    "    return rot   \n",
    "\n",
    "def trans3D(R, p):\n",
    "    T = sym.zeros(4, 4)\n",
    "    T[0:3, 0:3] = R\n",
    "    T[0, 3] = p[0]\n",
    "    T[1, 3] = p[1]\n",
    "    T[2, 3] = p[2]\n",
    "    T[3, 3] = 1\n",
    "\n",
    "    return T"
   ]
  },
  {
   "cell_type": "code",
   "execution_count": 3,
   "metadata": {},
   "outputs": [],
   "source": [
    "lht = 0.077 # hip to thigh \n",
    "ltc = 0.211 # thigh to calf \n",
    "lcf = 0.230 # calf to foot\n",
    "\n",
    "theta1, theta2, theta3 = sym.symbols(r'\\theta_1 \\theta_2 \\theta_3')\n",
    "l1, l2, l3 = sym.symbols(r'l1 l2 l3')\n",
    "x, y, z = sym.symbols('x y z')\n",
    "\n",
    "q = sym.Matrix([theta1, theta2, theta3])\n",
    "\n",
    "\n",
    "# eq = sym.Eq(sym.Matrix([x, y]), sym.Matrix([theta1 + y, theta2 + x]))\n",
    "# eq_soln = sym.solve(eq, [theta1, theta2])\n",
    "\n",
    "# display(eq)\n",
    "# display(eq_soln)\n"
   ]
  },
  {
   "cell_type": "code",
   "execution_count": 13,
   "metadata": {},
   "outputs": [
    {
     "data": {
      "text/latex": [
       "$\\displaystyle x = l_{2} \\sin{\\left(\\theta_{2} \\right)} + l_{3} \\left(\\sin{\\left(\\theta_{2} \\right)} \\cos{\\left(\\theta_{3} \\right)} + \\sin{\\left(\\theta_{3} \\right)} \\cos{\\left(\\theta_{2} \\right)}\\right)$"
      ],
      "text/plain": [
       "Eq(x, l2*sin(\\theta_2) + l3*(sin(\\theta_2)*cos(\\theta_3) + sin(\\theta_3)*cos(\\theta_2)))"
      ]
     },
     "metadata": {},
     "output_type": "display_data"
    },
    {
     "data": {
      "text/plain": [
       "[2*atan((cos(\\theta_3) + 1)*(l2*tan(\\theta_3/2)**2 + l2 - l3*tan(\\theta_3/2)**2 + l3 - sqrt(l2**2*tan(\\theta_3/2)**4 + 2*l2**2*tan(\\theta_3/2)**2 + l2**2 - 2*l2*l3*tan(\\theta_3/2)**4 + 2*l2*l3 + l3**2*tan(\\theta_3/2)**4 + 2*l3**2*tan(\\theta_3/2)**2 + l3**2 - x**2*tan(\\theta_3/2)**4 - 2*x**2*tan(\\theta_3/2)**2 - x**2))/(2*(l3*sin(\\theta_3) + x))),\n",
       " 2*atan((cos(\\theta_3) + 1)*(l2*tan(\\theta_3/2)**2 + l2 - l3*tan(\\theta_3/2)**2 + l3 + sqrt(l2**2*tan(\\theta_3/2)**4 + 2*l2**2*tan(\\theta_3/2)**2 + l2**2 - 2*l2*l3*tan(\\theta_3/2)**4 + 2*l2*l3 + l3**2*tan(\\theta_3/2)**4 + 2*l3**2*tan(\\theta_3/2)**2 + l3**2 - x**2*tan(\\theta_3/2)**4 - 2*x**2*tan(\\theta_3/2)**2 - x**2))/(2*(l3*sin(\\theta_3) + x)))]"
      ]
     },
     "metadata": {},
     "output_type": "display_data"
    }
   ],
   "source": [
    "############################################################################\n",
    "# FRONT LEFT FK\n",
    "# Tb0_FL = trans3D(sym.eye(3), [0.196, 0.050, 0]) # trunk to FL 0\n",
    "# T01_FL = trans3D(Rx(theta1), [0, 0, 0])\n",
    "# T12_FL = trans3D(Ry(theta2), [0, l1, 0])\n",
    "# T23_FL = trans3D(Ry(theta3), [0, 0, -l2])\n",
    "# T34_FL = trans3D(sym.eye(3), [0, 0, -l3])\n",
    "\n",
    "T01_FL = trans3D(Rx(theta1), [0, 0, 0])\n",
    "T12_FL = trans3D(Ry(theta2), [0, l1, 0])\n",
    "T23_FL = trans3D(Ry(theta3), [0, 0, l2])\n",
    "T34_FL = trans3D(sym.eye(3), [0, 0, l3])\n",
    "\n",
    "# Tb_FL_foot = Tb0_FL * T01_FL * T12_FL * T23_FL * T34_FL\n",
    "Tb_FL_foot = T01_FL * T12_FL * T23_FL * T34_FL\n",
    "# Tb_FL_foot_lam = sym.lambdify([theta1, theta2, theta3, l1, l2, l3], Tb_FL_foot)\n",
    "\n",
    "# Tb_FL_foot_eval = Tb_FL_foot_lam(0.63, 1.04, -1.60, lht, ltc, lcf)\n",
    "\n",
    "# print(\"FL foor position relative to base: \", Tb_FL_foot_eval[0:3,3])\n",
    "# print(\"FL foot orientation :\", R.from_matrix(Tb_FL_foot_eval[0:3, 0:3]).as_quat()) # (x, y, z, w) \n",
    "\n",
    "p_FL = Tb_FL_foot[0:3,3] # position of foot \n",
    "# p_FL_eq = sym.Eq(sym.Matrix([x, y, z]), p_FL)\n",
    "p_FL_eq = sym.Eq(x, p_FL[0])\n",
    "\n",
    "\n",
    "# # J_FL = p_FL.jacobian(q) # jacobian of leg  \n",
    "\n",
    "# display(p_FL)\n",
    "display(p_FL_eq)\n",
    "\n",
    "\n",
    "# p_FL_eq = sym.Eq(sym.Matrix([FLpx, FLpy, FLpz]), p_FL)\n",
    "\n",
    "# FL_IK = sym.solve(sym.simplify(p_FL_eq), [theta1, theta2, theta3]) # inverse kinematics \n",
    "# display(FL_IK)\n",
    "\n",
    "FL_IK = sym.solve(p_FL_eq, theta3)\n",
    "display(FL_IK)\n",
    "\n",
    "# J_lam = sym.lambdify([theta1, theta2, theta3, l1, l2, l3], J_FL)\n",
    "\n",
    "# display(Tb_FL_foot_lam(0.63, 1.04, -1.60, lht, ltc, lcf))\n",
    "# display(sym.simplify(Tb_FL_foot))\n",
    "# display(p_FL)\n",
    "# display(p_FL_eq)\n",
    "# display(sym.simplify(J_FL))\n",
    "# display(pFL_lhs)\n",
    "# display(sym.simplify(J_FL))\n",
    "# display(J_FL)\n",
    "# # display(FL_IK)\n",
    "# display(J_lam(0.63, 1.04, -1.60, lht, ltc, lcf))\n"
   ]
  },
  {
   "cell_type": "code",
   "execution_count": 18,
   "metadata": {},
   "outputs": [
    {
     "data": {
      "image/png": "[encoded data removed]",
      "text/latex": [
       "$\\displaystyle \\left[ 2 \\operatorname{atan}{\\left(\\frac{\\left(\\cos{\\left(\\theta_{3} \\right)} + 1\\right) \\left(l_{2} \\tan^{2}{\\left(\\frac{\\theta_{3}}{2} \\right)} + l_{2} - l_{3} \\tan^{2}{\\left(\\frac{\\theta_{3}}{2} \\right)} + l_{3} - \\sqrt{l_{2}^{2} \\tan^{4}{\\left(\\frac{\\theta_{3}}{2} \\right)} + 2 l_{2}^{2} \\tan^{2}{\\left(\\frac{\\theta_{3}}{2} \\right)} + l_{2}^{2} - 2 l_{2} l_{3} \\tan^{4}{\\left(\\frac{\\theta_{3}}{2} \\right)} + 2 l_{2} l_{3} + l_{3}^{2} \\tan^{4}{\\left(\\frac{\\theta_{3}}{2} \\right)} + 2 l_{3}^{2} \\tan^{2}{\\left(\\frac{\\theta_{3}}{2} \\right)} + l_{3}^{2} - x^{2} \\tan^{4}{\\left(\\frac{\\theta_{3}}{2} \\right)} - 2 x^{2} \\tan^{2}{\\left(\\frac{\\theta_{3}}{2} \\right)} - x^{2}}\\right)}{2 \\left(l_{3} \\sin{\\left(\\theta_{3} \\right)} + x\\right)} \\right)}, \\  2 \\operatorname{atan}{\\left(\\frac{\\left(\\cos{\\left(\\theta_{3} \\right)} + 1\\right) \\left(l_{2} \\tan^{2}{\\left(\\frac{\\theta_{3}}{2} \\right)} + l_{2} - l_{3} \\tan^{2}{\\left(\\frac{\\theta_{3}}{2} \\right)} + l_{3} + \\sqrt{l_{2}^{2} \\tan^{4}{\\left(\\frac{\\theta_{3}}{2} \\right)} + 2 l_{2}^{2} \\tan^{2}{\\left(\\frac{\\theta_{3}}{2} \\right)} + l_{2}^{2} - 2 l_{2} l_{3} \\tan^{4}{\\left(\\frac{\\theta_{3}}{2} \\right)} + 2 l_{2} l_{3} + l_{3}^{2} \\tan^{4}{\\left(\\frac{\\theta_{3}}{2} \\right)} + 2 l_{3}^{2} \\tan^{2}{\\left(\\frac{\\theta_{3}}{2} \\right)} + l_{3}^{2} - x^{2} \\tan^{4}{\\left(\\frac{\\theta_{3}}{2} \\right)} - 2 x^{2} \\tan^{2}{\\left(\\frac{\\theta_{3}}{2} \\right)} - x^{2}}\\right)}{2 \\left(l_{3} \\sin{\\left(\\theta_{3} \\right)} + x\\right)} \\right)}\\right]$"
      ],
      "text/plain": [
       "⎡      ⎛                   ⎛                                                  \n",
       "⎢      ⎜                   ⎜      2⎛\\theta₃⎞              2⎛\\theta₃⎞          \n",
       "⎢      ⎜(cos(\\theta₃) + 1)⋅⎜l₂⋅tan ⎜───────⎟ + l₂ - l₃⋅tan ⎜───────⎟ + l₃ -   \n",
       "⎢      ⎜                   ⎝       ⎝   2   ⎠               ⎝   2   ⎠        ╲╱\n",
       "⎢2⋅atan⎜──────────────────────────────────────────────────────────────────────\n",
       "⎣      ⎝                                                                      \n",
       "\n",
       "  ____________________________________________________________________________\n",
       " ╱   2    4⎛\\theta₃⎞       2    2⎛\\theta₃⎞     2              4⎛\\theta₃⎞      \n",
       "╱  l₂ ⋅tan ⎜───────⎟ + 2⋅l₂ ⋅tan ⎜───────⎟ + l₂  - 2⋅l₂⋅l₃⋅tan ⎜───────⎟ + 2⋅l\n",
       "           ⎝   2   ⎠             ⎝   2   ⎠                     ⎝   2   ⎠      \n",
       "──────────────────────────────────────────────────────────────────────────────\n",
       "                                          2⋅(l₃⋅sin(\\theta₃) + x)             \n",
       "\n",
       "______________________________________________________________________________\n",
       "         2    4⎛\\theta₃⎞       2    2⎛\\theta₃⎞     2    2    4⎛\\theta₃⎞      2\n",
       "₂⋅l₃ + l₃ ⋅tan ⎜───────⎟ + 2⋅l₃ ⋅tan ⎜───────⎟ + l₃  - x ⋅tan ⎜───────⎟ - 2⋅x \n",
       "               ⎝   2   ⎠             ⎝   2   ⎠                ⎝   2   ⎠       \n",
       "──────────────────────────────────────────────────────────────────────────────\n",
       "                                                                              \n",
       "\n",
       "____________________⎞⎞        ⎛                   ⎛                           \n",
       "    2⎛\\theta₃⎞    2 ⎟⎟        ⎜                   ⎜      2⎛\\theta₃⎞           \n",
       "⋅tan ⎜───────⎟ - x  ⎟⎟        ⎜(cos(\\theta₃) + 1)⋅⎜l₂⋅tan ⎜───────⎟ + l₂ - l₃⋅\n",
       "     ⎝   2   ⎠      ⎠⎟        ⎜                   ⎝       ⎝   2   ⎠           \n",
       "─────────────────────⎟, 2⋅atan⎜───────────────────────────────────────────────\n",
       "                     ⎠        ⎝                                               \n",
       "\n",
       "                         _____________________________________________________\n",
       "   2⎛\\theta₃⎞           ╱   2    4⎛\\theta₃⎞       2    2⎛\\theta₃⎞     2       \n",
       "tan ⎜───────⎟ + l₃ +   ╱  l₂ ⋅tan ⎜───────⎟ + 2⋅l₂ ⋅tan ⎜───────⎟ + l₂  - 2⋅l₂\n",
       "    ⎝   2   ⎠        ╲╱           ⎝   2   ⎠             ⎝   2   ⎠             \n",
       "──────────────────────────────────────────────────────────────────────────────\n",
       "                                                                 2⋅(l₃⋅sin(\\th\n",
       "\n",
       "______________________________________________________________________________\n",
       "       4⎛\\theta₃⎞               2    4⎛\\theta₃⎞       2    2⎛\\theta₃⎞     2   \n",
       "⋅l₃⋅tan ⎜───────⎟ + 2⋅l₂⋅l₃ + l₃ ⋅tan ⎜───────⎟ + 2⋅l₃ ⋅tan ⎜───────⎟ + l₃  - \n",
       "        ⎝   2   ⎠                     ⎝   2   ⎠             ⎝   2   ⎠         \n",
       "──────────────────────────────────────────────────────────────────────────────\n",
       "eta₃) + x)                                                                    \n",
       "\n",
       "___________________________________________⎞⎞⎤\n",
       " 2    4⎛\\theta₃⎞      2    2⎛\\theta₃⎞    2 ⎟⎟⎥\n",
       "x ⋅tan ⎜───────⎟ - 2⋅x ⋅tan ⎜───────⎟ - x  ⎟⎟⎥\n",
       "       ⎝   2   ⎠            ⎝   2   ⎠      ⎠⎟⎥\n",
       "────────────────────────────────────────────⎟⎥\n",
       "                                            ⎠⎦"
      ]
     },
     "metadata": {},
     "output_type": "display_data"
    }
   ],
   "source": [
    "# display(FL_IK)\n",
    "\n",
    "\n",
    "# display(Tb_FL_foot[0:3,3])\n",
    "\n",
    "# ############################################################################\n",
    "# # FRONT RIGHT FK\n",
    "# Tb0_FR = trans3D(sym.eye(3), [0.196, -0.050, 0]) # trunk to FR 0\n",
    "# T01_FR = trans3D(Rx(theta1), [0, 0, 0])\n",
    "# T12_FR = trans3D(Ry(theta2), [0, -l1, 0])\n",
    "# T23_FR = trans3D(Ry(theta3), [0, 0, -l2])\n",
    "# T34_FR = trans3D(sym.eye(3), [0, 0, -l3])\n",
    "\n",
    "# Tb_FR_foot = Tb0_FR * T01_FR * T12_FR * T23_FR * T34_FR\n",
    "# Tb_FR_foot_lam = sym.lambdify([theta1, theta2, theta3, l1, l2, l3], Tb_FR_foot)\n",
    "\n",
    "# Tb_FR_foot_eval = Tb_FR_foot_lam(0.63, 1.04, -1.60, lht, ltc, lcf)\n",
    "\n",
    "# print(\"FR foor position relative to base: \", Tb_FR_foot_eval[0:3,3])\n",
    "# print(\"FR foot orientation :\", R.from_matrix(Tb_FR_foot_eval[0:3, 0:3]).as_quat()) # (x, y, z, w)\n",
    "\n",
    "# p_FR = Tb_FR_foot[0:3,3] # position of foot \n",
    "# J_FR = p_FR.jacobian(q) # jacobian of leg  \n",
    "# J_lam = sym.lambdify([theta1, theta2, theta3, l1, l2, l3], J_FR)\n",
    "# display(J_lam(0.63, 1.04, -1.60, lht, ltc, lcf))"
   ]
  },
  {
   "cell_type": "code",
   "execution_count": 7,
   "metadata": {},
   "outputs": [
    {
     "name": "stdout",
     "output_type": "stream",
     "text": [
      "RL foor position relative to base:  [-0.25579447  0.28995199 -0.19840252]\n",
      "RL foot orientation : [ 0.2977508  -0.26275795 -0.08561953  0.91376803]\n"
     ]
    },
    {
     "data": {
      "text/plain": [
       "array([[ 0.        , -0.30168115, -0.19486868],\n",
       "       [ 0.19840252, -0.0352276 ,  0.07197748],\n",
       "       [ 0.23995199,  0.04831557, -0.098719  ]])"
      ]
     },
     "metadata": {},
     "output_type": "display_data"
    }
   ],
   "source": [
    "############################################################################\n",
    "# REAR LEFT FK\n",
    "Tb0_RL = trans3D(sym.eye(3), [-0.196, 0.050, 0]) # trunk to RL 0\n",
    "T01_RL = trans3D(Rx(theta1), [0, 0, 0])\n",
    "T12_RL = trans3D(Ry(theta2), [0, l1, 0])\n",
    "T23_RL = trans3D(Ry(theta3), [0, 0, -l2])\n",
    "T34_RL = trans3D(sym.eye(3), [0, 0, -l3])\n",
    "\n",
    "Tb_RL_foot = Tb0_RL * T01_RL * T12_RL * T23_RL * T34_RL\n",
    "Tb_RL_foot_lam = sym.lambdify([theta1, theta2, theta3, l1, l2, l3], Tb_RL_foot)\n",
    "\n",
    "Tb_RL_foot_eval = Tb_RL_foot_lam(0.63, 1.04, -1.60, lht, ltc, lcf)\n",
    "\n",
    "print(\"RL foor position relative to base: \", Tb_RL_foot_eval[0:3,3])\n",
    "print(\"RL foot orientation :\", R.from_matrix(Tb_RL_foot_eval[0:3, 0:3]).as_quat()) # (x, y, z, w)\n",
    "\n",
    "p_RL = Tb_RL_foot[0:3,3] # position of foot \n",
    "J_RL = p_RL.jacobian(q) # jacobian of leg  \n",
    "J_lam = sym.lambdify([theta1, theta2, theta3, l1, l2, l3], J_RL)\n",
    "display(J_lam(0.63, 1.04, -1.60, lht, ltc, lcf))"
   ]
  },
  {
   "cell_type": "code",
   "execution_count": 8,
   "metadata": {},
   "outputs": [
    {
     "name": "stdout",
     "output_type": "stream",
     "text": [
      "RR foor position relative to base:  [-0.25579447  0.06551575 -0.28913081]\n",
      "RR foot orientation : [ 0.2977508  -0.26275795 -0.08561953  0.91376803]\n"
     ]
    },
    {
     "data": {
      "text/plain": [
       "array([[ 0.        , -0.30168115, -0.19486868],\n",
       "       [ 0.28913081, -0.0352276 ,  0.07197748],\n",
       "       [ 0.11551575,  0.04831557, -0.098719  ]])"
      ]
     },
     "metadata": {},
     "output_type": "display_data"
    }
   ],
   "source": [
    "############################################################################\n",
    "# REAR RIGHT FK\n",
    "Tb0_RR = trans3D(sym.eye(3), [-0.196, -0.050, 0]) # trunk to RR 0\n",
    "T01_RR = trans3D(Rx(theta1), [0, 0, 0])\n",
    "T12_RR = trans3D(Ry(theta2), [0, -l1, 0])\n",
    "T23_RR = trans3D(Ry(theta3), [0, 0, -l2])\n",
    "T34_RR = trans3D(sym.eye(3), [0, 0, -l3])\n",
    "\n",
    "Tb_RR_foot = Tb0_RR * T01_RR * T12_RR * T23_RR * T34_RR\n",
    "Tb_RR_foot_lam = sym.lambdify([theta1, theta2, theta3, l1, l2, l3], Tb_RR_foot)\n",
    "\n",
    "Tb_RR_foot_eval = Tb_RR_foot_lam(0.63, 1.04, -1.60, lht, ltc, lcf)\n",
    "\n",
    "print(\"RR foor position relative to base: \", Tb_RR_foot_eval[0:3,3])\n",
    "print(\"RR foot orientation :\", R.from_matrix(Tb_RR_foot_eval[0:3, 0:3]).as_quat()) # (x, y, z, w)\n",
    "\n",
    "p_RR = Tb_RR_foot[0:3,3] # position of foot \n",
    "J_RR = p_RR.jacobian(q) # jacobian of leg  \n",
    "J_lam = sym.lambdify([theta1, theta2, theta3, l1, l2, l3], J_RR)\n",
    "display(J_lam(0.63, 1.04, -1.60, lht, ltc, lcf))"
   ]
  },
  {
   "cell_type": "code",
   "execution_count": 9,
   "metadata": {},
   "outputs": [
    {
     "ename": "NameError",
     "evalue": "name 'FL' is not defined",
     "output_type": "error",
     "traceback": [
      "\u001b[0;31m---------------------------------------------------------------------------\u001b[0m",
      "\u001b[0;31mNameError\u001b[0m                                 Traceback (most recent call last)",
      "\u001b[0;32m<ipython-input-9-fd2010425ed9>\u001b[0m in \u001b[0;36m<module>\u001b[0;34m\u001b[0m\n\u001b[0;32m----> 1\u001b[0;31m \u001b[0mFL\u001b[0m\u001b[0;34m\u001b[0m\u001b[0;34m\u001b[0m\u001b[0m\n\u001b[0m\u001b[1;32m      2\u001b[0m array([[ 0.        , -0.30168115, -0.19486868],\n\u001b[1;32m      3\u001b[0m        \u001b[0;34m[\u001b[0m \u001b[0;36m0.19840252\u001b[0m\u001b[0;34m,\u001b[0m \u001b[0;34m-\u001b[0m\u001b[0;36m0.0352276\u001b[0m \u001b[0;34m,\u001b[0m  \u001b[0;36m0.07197748\u001b[0m\u001b[0;34m]\u001b[0m\u001b[0;34m,\u001b[0m\u001b[0;34m\u001b[0m\u001b[0;34m\u001b[0m\u001b[0m\n\u001b[1;32m      4\u001b[0m        [ 0.23995199,  0.04831557, -0.098719  ]])\n\u001b[1;32m      5\u001b[0m \u001b[0;34m\u001b[0m\u001b[0m\n",
      "\u001b[0;31mNameError\u001b[0m: name 'FL' is not defined"
     ]
    }
   ],
   "source": [
    "FL\n",
    "array([[ 0.        , -0.30168115, -0.19486868],\n",
    "       [ 0.19840252, -0.0352276 ,  0.07197748],\n",
    "       [ 0.23995199,  0.04831557, -0.098719  ]])\n",
    "\n",
    "FR \n",
    "array([[ 0.        , -0.30168115, -0.19486868],\n",
    "       [ 0.28913081, -0.0352276 ,  0.07197748],\n",
    "       [ 0.11551575,  0.04831557, -0.098719  ]])\n",
    "\n",
    "RL\n",
    "array([[ 0.        , -0.30168115, -0.19486868],\n",
    "       [ 0.19840252, -0.0352276 ,  0.07197748],\n",
    "       [ 0.23995199,  0.04831557, -0.098719  ]])\n",
    "\n",
    "RR\n",
    "array([[ 0.        , -0.30168115, -0.19486868],\n",
    "       [ 0.28913081, -0.0352276 ,  0.07197748],\n",
    "       [ 0.11551575,  0.04831557, -0.098719  ]])"
   ]
  },
  {
   "cell_type": "code",
   "execution_count": null,
   "metadata": {},
   "outputs": [],
   "source": []
  }
 ],
 "metadata": {
  "kernelspec": {
   "display_name": "Python 3",
   "language": "python",
   "name": "python3"
  },
  "language_info": {
   "codemirror_mode": {
    "name": "ipython",
    "version": 3
   },
   "file_extension": ".py",
   "mimetype": "text/x-python",
   "name": "python",
   "nbconvert_exporter": "python",
   "pygments_lexer": "ipython3",
   "version": "3.8.5"
  }
 },
 "nbformat": 4,
 "nbformat_minor": 4
}
